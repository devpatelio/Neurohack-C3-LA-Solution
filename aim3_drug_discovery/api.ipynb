{
 "cells": [
  {
   "cell_type": "code",
   "execution_count": 112,
   "metadata": {},
   "outputs": [
    {
     "name": "stdout",
     "output_type": "stream",
     "text": [
      "{'attribute': {'name': 'amyotrophic lateral sclerosis', 'href': '/api/1.0/attribute/amyotrophic+lateral+sclerosis'}, 'dataset': {'name': 'GAD Gene-Disease Associations', 'href': '/api/1.0/dataset/GAD+Gene-Disease+Associations'}, 'associations': [{'gene': {'symbol': 'SHB', 'href': '/api/1.0/gene/SHB'}, 'thresholdValue': 1.0}, {'gene': {'symbol': 'NCAM2', 'href': '/api/1.0/gene/NCAM2'}, 'thresholdValue': 1.0}, {'gene': {'symbol': 'AKAP13', 'href': '/api/1.0/gene/AKAP13'}, 'thresholdValue': 1.0}, {'gene': {'symbol': 'DISC1', 'href': '/api/1.0/gene/DISC1'}, 'thresholdValue': 1.0}, {'gene': {'symbol': 'GRIN2B', 'href': '/api/1.0/gene/GRIN2B'}, 'thresholdValue': 1.0}, {'gene': {'symbol': 'PSEN1', 'href': '/api/1.0/gene/PSEN1'}, 'thresholdValue': 1.0}, {'gene': {'symbol': 'EPO', 'href': '/api/1.0/gene/EPO'}, 'thresholdValue': 1.0}, {'gene': {'symbol': 'CSNK1G3', 'href': '/api/1.0/gene/CSNK1G3'}, 'thresholdValue': 1.0}, {'gene': {'symbol': 'RNF144A', 'href': '/api/1.0/gene/RNF144A'}, 'thresholdValue': 1.0}, {'gene': {'symbol': 'C9ORF72', 'href': '/api/1.0/gene/C9ORF72'}, 'thresholdValue': 1.0}, {'gene': {'symbol': 'IL1RAPL2', 'href': '/api/1.0/gene/IL1RAPL2'}, 'thresholdValue': 1.0}, {'gene': {'symbol': 'ELF5', 'href': '/api/1.0/gene/ELF5'}, 'thresholdValue': 1.0}, {'gene': {'symbol': 'POF1B', 'href': '/api/1.0/gene/POF1B'}, 'thresholdValue': 1.0}, {'gene': {'symbol': 'ADAMTS14', 'href': '/api/1.0/gene/ADAMTS14'}, 'thresholdValue': 1.0}, {'gene': {'symbol': 'PDE4B', 'href': '/api/1.0/gene/PDE4B'}, 'thresholdValue': 1.0}, {'gene': {'symbol': 'FHDC1', 'href': '/api/1.0/gene/FHDC1'}, 'thresholdValue': 1.0}, {'gene': {'symbol': 'ANG', 'href': '/api/1.0/gene/ANG'}, 'thresholdValue': 1.0}, {'gene': {'symbol': 'RBMS2', 'href': '/api/1.0/gene/RBMS2'}, 'thresholdValue': 1.0}, {'gene': {'symbol': 'FAM19A5', 'href': '/api/1.0/gene/FAM19A5'}, 'thresholdValue': 1.0}, {'gene': {'symbol': 'GUCD1', 'href': '/api/1.0/gene/GUCD1'}, 'thresholdValue': 1.0}, {'gene': {'symbol': 'EFEMP1', 'href': '/api/1.0/gene/EFEMP1'}, 'thresholdValue': 1.0}, {'gene': {'symbol': 'RBMS1', 'href': '/api/1.0/gene/RBMS1'}, 'thresholdValue': 1.0}, {'gene': {'symbol': 'LAMA2', 'href': '/api/1.0/gene/LAMA2'}, 'thresholdValue': 1.0}, {'gene': {'symbol': 'ZFP64', 'href': '/api/1.0/gene/ZFP64'}, 'thresholdValue': 1.0}, {'gene': {'symbol': 'FMN2', 'href': '/api/1.0/gene/FMN2'}, 'thresholdValue': 1.0}, {'gene': {'symbol': 'GRIK2', 'href': '/api/1.0/gene/GRIK2'}, 'thresholdValue': 1.0}, {'gene': {'symbol': 'KIFAP3', 'href': '/api/1.0/gene/KIFAP3'}, 'thresholdValue': 1.0}, {'gene': {'symbol': 'MECOM', 'href': '/api/1.0/gene/MECOM'}, 'thresholdValue': 1.0}, {'gene': {'symbol': 'DLGAP1', 'href': '/api/1.0/gene/DLGAP1'}, 'thresholdValue': 1.0}, {'gene': {'symbol': 'VDR', 'href': '/api/1.0/gene/VDR'}, 'thresholdValue': 1.0}, {'gene': {'symbol': 'KCNIP4', 'href': '/api/1.0/gene/KCNIP4'}, 'thresholdValue': 1.0}, {'gene': {'symbol': 'CYP1A1', 'href': '/api/1.0/gene/CYP1A1'}, 'thresholdValue': 1.0}, {'gene': {'symbol': 'WDR93', 'href': '/api/1.0/gene/WDR93'}, 'thresholdValue': 1.0}, {'gene': {'symbol': 'PEX11A', 'href': '/api/1.0/gene/PEX11A'}, 'thresholdValue': 1.0}, {'gene': {'symbol': 'BTBD11', 'href': '/api/1.0/gene/BTBD11'}, 'thresholdValue': 1.0}, {'gene': {'symbol': 'AGBL4', 'href': '/api/1.0/gene/AGBL4'}, 'thresholdValue': 1.0}, {'gene': {'symbol': 'SCN7A', 'href': '/api/1.0/gene/SCN7A'}, 'thresholdValue': 1.0}, {'gene': {'symbol': 'NKRF', 'href': '/api/1.0/gene/NKRF'}, 'thresholdValue': 1.0}, {'gene': {'symbol': 'ATXN1', 'href': '/api/1.0/gene/ATXN1'}, 'thresholdValue': 1.0}, {'gene': {'symbol': 'B4GALT6', 'href': '/api/1.0/gene/B4GALT6'}, 'thresholdValue': 1.0}, {'gene': {'symbol': 'MMP9', 'href': '/api/1.0/gene/MMP9'}, 'thresholdValue': 1.0}, {'gene': {'symbol': 'SEMA6A', 'href': '/api/1.0/gene/SEMA6A'}, 'thresholdValue': 1.0}, {'gene': {'symbol': 'SMN2', 'href': '/api/1.0/gene/SMN2'}, 'thresholdValue': 1.0}, {'gene': {'symbol': 'NT5C1A', 'href': '/api/1.0/gene/NT5C1A'}, 'thresholdValue': 1.0}, {'gene': {'symbol': 'CD1E', 'href': '/api/1.0/gene/CD1E'}, 'thresholdValue': 1.0}, {'gene': {'symbol': 'CDC42', 'href': '/api/1.0/gene/CDC42'}, 'thresholdValue': 1.0}, {'gene': {'symbol': 'INTS4', 'href': '/api/1.0/gene/INTS4'}, 'thresholdValue': 1.0}, {'gene': {'symbol': 'CUBN', 'href': '/api/1.0/gene/CUBN'}, 'thresholdValue': 1.0}, {'gene': {'symbol': 'GRIN2A', 'href': '/api/1.0/gene/GRIN2A'}, 'thresholdValue': 1.0}, {'gene': {'symbol': 'SPTB', 'href': '/api/1.0/gene/SPTB'}, 'thresholdValue': 1.0}, {'gene': {'symbol': 'CHAMP1', 'href': '/api/1.0/gene/CHAMP1'}, 'thresholdValue': 1.0}, {'gene': {'symbol': 'UNC13A', 'href': '/api/1.0/gene/UNC13A'}, 'thresholdValue': 1.0}, {'gene': {'symbol': 'SMN1', 'href': '/api/1.0/gene/SMN1'}, 'thresholdValue': 1.0}, {'gene': {'symbol': 'PON1', 'href': '/api/1.0/gene/PON1'}, 'thresholdValue': 1.0}, {'gene': {'symbol': 'APOE', 'href': '/api/1.0/gene/APOE'}, 'thresholdValue': 1.0}, {'gene': {'symbol': 'RUFY1', 'href': '/api/1.0/gene/RUFY1'}, 'thresholdValue': 1.0}, {'gene': {'symbol': 'C7ORF57', 'href': '/api/1.0/gene/C7ORF57'}, 'thresholdValue': 1.0}, {'gene': {'symbol': 'SUSD1', 'href': '/api/1.0/gene/SUSD1'}, 'thresholdValue': 1.0}, {'gene': {'symbol': 'MORN2', 'href': '/api/1.0/gene/MORN2'}, 'thresholdValue': 1.0}, {'gene': {'symbol': 'KIAA0586', 'href': '/api/1.0/gene/KIAA0586'}, 'thresholdValue': 1.0}, {'gene': {'symbol': 'ZNF746', 'href': '/api/1.0/gene/ZNF746'}, 'thresholdValue': 1.0}, {'gene': {'symbol': 'IFNK', 'href': '/api/1.0/gene/IFNK'}, 'thresholdValue': 1.0}, {'gene': {'symbol': 'KCNMA1', 'href': '/api/1.0/gene/KCNMA1'}, 'thresholdValue': 1.0}, {'gene': {'symbol': 'TNF', 'href': '/api/1.0/gene/TNF'}, 'thresholdValue': 1.0}, {'gene': {'symbol': 'TCEA1', 'href': '/api/1.0/gene/TCEA1'}, 'thresholdValue': 1.0}, {'gene': {'symbol': 'SLC39A11', 'href': '/api/1.0/gene/SLC39A11'}, 'thresholdValue': 1.0}, {'gene': {'symbol': 'SOD1', 'href': '/api/1.0/gene/SOD1'}, 'thresholdValue': 1.0}, {'gene': {'symbol': 'RD3', 'href': '/api/1.0/gene/RD3'}, 'thresholdValue': 1.0}, {'gene': {'symbol': 'DPP6', 'href': '/api/1.0/gene/DPP6'}, 'thresholdValue': 1.0}, {'gene': {'symbol': 'SIPA1L2', 'href': '/api/1.0/gene/SIPA1L2'}, 'thresholdValue': 1.0}, {'gene': {'symbol': 'MYLIP', 'href': '/api/1.0/gene/MYLIP'}, 'thresholdValue': 1.0}, {'gene': {'symbol': 'DMD', 'href': '/api/1.0/gene/DMD'}, 'thresholdValue': 1.0}, {'gene': {'symbol': 'PON2', 'href': '/api/1.0/gene/PON2'}, 'thresholdValue': 1.0}, {'gene': {'symbol': 'VCP', 'href': '/api/1.0/gene/VCP'}, 'thresholdValue': 1.0}, {'gene': {'symbol': 'CNTN4', 'href': '/api/1.0/gene/CNTN4'}, 'thresholdValue': 1.0}, {'gene': {'symbol': 'HS3ST3A1', 'href': '/api/1.0/gene/HS3ST3A1'}, 'thresholdValue': 1.0}, {'gene': {'symbol': 'STAG2', 'href': '/api/1.0/gene/STAG2'}, 'thresholdValue': 1.0}, {'gene': {'symbol': 'MOB3B', 'href': '/api/1.0/gene/MOB3B'}, 'thresholdValue': 1.0}, {'gene': {'symbol': 'LIPC', 'href': '/api/1.0/gene/LIPC'}, 'thresholdValue': 1.0}, {'gene': {'symbol': 'GNAL', 'href': '/api/1.0/gene/GNAL'}, 'thresholdValue': 1.0}, {'gene': {'symbol': 'PON3', 'href': '/api/1.0/gene/PON3'}, 'thresholdValue': 1.0}, {'gene': {'symbol': 'ITPR2', 'href': '/api/1.0/gene/ITPR2'}, 'thresholdValue': 1.0}, {'gene': {'symbol': 'RASGRF1', 'href': '/api/1.0/gene/RASGRF1'}, 'thresholdValue': 1.0}, {'gene': {'symbol': 'RNF14', 'href': '/api/1.0/gene/RNF14'}, 'thresholdValue': 1.0}, {'gene': {'symbol': 'PDE10A', 'href': '/api/1.0/gene/PDE10A'}, 'thresholdValue': 1.0}, {'gene': {'symbol': 'SHROOM3', 'href': '/api/1.0/gene/SHROOM3'}, 'thresholdValue': 1.0}, {'gene': {'symbol': 'CDC5L', 'href': '/api/1.0/gene/CDC5L'}, 'thresholdValue': 1.0}, {'gene': {'symbol': 'SRGAP2', 'href': '/api/1.0/gene/SRGAP2'}, 'thresholdValue': 1.0}, {'gene': {'symbol': 'TARDBP', 'href': '/api/1.0/gene/TARDBP'}, 'thresholdValue': 1.0}, {'gene': {'symbol': 'SELL', 'href': '/api/1.0/gene/SELL'}, 'thresholdValue': 1.0}, {'gene': {'symbol': 'SSPO', 'href': '/api/1.0/gene/SSPO'}, 'thresholdValue': 1.0}, {'gene': {'symbol': 'FUS', 'href': '/api/1.0/gene/FUS'}, 'thresholdValue': 1.0}, {'gene': {'symbol': 'ALAD', 'href': '/api/1.0/gene/ALAD'}, 'thresholdValue': 1.0}, {'gene': {'symbol': 'RBFOX1', 'href': '/api/1.0/gene/RBFOX1'}, 'thresholdValue': 1.0}, {'gene': {'symbol': 'ZNF385B', 'href': '/api/1.0/gene/ZNF385B'}, 'thresholdValue': 1.0}, {'gene': {'symbol': 'FGGY', 'href': '/api/1.0/gene/FGGY'}, 'thresholdValue': 1.0}, {'gene': {'symbol': 'CYP1A2', 'href': '/api/1.0/gene/CYP1A2'}, 'thresholdValue': 1.0}, {'gene': {'symbol': 'PKHD1', 'href': '/api/1.0/gene/PKHD1'}, 'thresholdValue': 1.0}, {'gene': {'symbol': 'HFE', 'href': '/api/1.0/gene/HFE'}, 'thresholdValue': 1.0}, {'gene': {'symbol': 'HUS1', 'href': '/api/1.0/gene/HUS1'}, 'thresholdValue': 1.0}, {'gene': {'symbol': 'ARSG', 'href': '/api/1.0/gene/ARSG'}, 'thresholdValue': 1.0}, {'gene': {'symbol': 'OTOA', 'href': '/api/1.0/gene/OTOA'}, 'thresholdValue': 1.0}, {'gene': {'symbol': 'MPZL1', 'href': '/api/1.0/gene/MPZL1'}, 'thresholdValue': 1.0}, {'gene': {'symbol': 'VAPB', 'href': '/api/1.0/gene/VAPB'}, 'thresholdValue': 1.0}, {'gene': {'symbol': 'TIAM1', 'href': '/api/1.0/gene/TIAM1'}, 'thresholdValue': 1.0}, {'gene': {'symbol': 'BCAS1', 'href': '/api/1.0/gene/BCAS1'}, 'thresholdValue': 1.0}, {'gene': {'symbol': 'SUN3', 'href': '/api/1.0/gene/SUN3'}, 'thresholdValue': 1.0}, {'gene': {'symbol': 'SLCO4A1', 'href': '/api/1.0/gene/SLCO4A1'}, 'thresholdValue': 1.0}]}\n"
     ]
    }
   ],
   "source": [
    "from harmonizomeapi import Harmonizome, Entity\n",
    "import os\n",
    "import json\n",
    "import pandas as pd\n",
    "from chembl_webresource_client import new_client\n",
    "import chembl_webresource_client\n",
    "\n",
    "from urllib.request import urlopen\n",
    "\n",
    "dataset = Harmonizome.get(Entity.DATASET, name='GAD Gene-Disease Associations')\n",
    "\n",
    "url = 'https://maayanlab.cloud/Harmonizome/api/1.0/gene_set/amyotrophic+lateral+sclerosis/GAD+Gene-Disease+Associations'\n",
    "response = urlopen(url)\n",
    "data = response.read().decode('utf-8')\n",
    "data = json.loads(data)\n",
    "print(data)"
   ]
  },
  {
   "cell_type": "code",
   "execution_count": 166,
   "metadata": {},
   "outputs": [
    {
     "name": "stdout",
     "output_type": "stream",
     "text": [
      "['RPS6KA1', 'ABCC3', 'AXL', 'VEGFA', 'SULT1A2', 'THRA', 'TSHR', 'MGST2', 'GRIK4', 'DYRK1A', 'PRKCB', 'ADORA1', 'IGF1R', 'TNFSF4', 'TNFSF12']\n"
     ]
    }
   ],
   "source": [
    "nominal = pd.read_csv('nominated_genes.txt', sep='\t')\n",
    "nominal_list = list(nominal['exposure'])\n",
    "print(nominal_list)\n"
   ]
  },
  {
   "cell_type": "code",
   "execution_count": 169,
   "metadata": {},
   "outputs": [],
   "source": [
    "gene_list = list(data['associations'])\n",
    "entity_list = [i['gene']['symbol'] for i in gene_list]\n",
    "entity_list += nominal_list"
   ]
  },
  {
   "cell_type": "code",
   "execution_count": 170,
   "metadata": {},
   "outputs": [
    {
     "name": "stdout",
     "output_type": "stream",
     "text": [
      "SHB NCAM2 AKAP13 DISC1 GRIN2B PSEN1 EPO CSNK1G3 RNF144A C9ORF72 IL1RAPL2 ELF5 POF1B ADAMTS14 PDE4B FHDC1 ANG RBMS2 FAM19A5 GUCD1 EFEMP1 RBMS1 LAMA2 ZFP64 FMN2 GRIK2 KIFAP3 MECOM DLGAP1 VDR KCNIP4 CYP1A1 WDR93 PEX11A BTBD11 AGBL4 SCN7A NKRF ATXN1 B4GALT6 MMP9 SEMA6A SMN2 NT5C1A CD1E CDC42 INTS4 CUBN GRIN2A SPTB CHAMP1 UNC13A SMN1 PON1 APOE RUFY1 C7ORF57 SUSD1 MORN2 KIAA0586 ZNF746 IFNK KCNMA1 TNF TCEA1 SLC39A11 SOD1 RD3 DPP6 SIPA1L2 MYLIP DMD PON2 VCP CNTN4 HS3ST3A1 STAG2 MOB3B LIPC GNAL PON3 ITPR2 RASGRF1 RNF14 PDE10A SHROOM3 CDC5L SRGAP2 TARDBP SELL SSPO FUS ALAD RBFOX1 ZNF385B FGGY CYP1A2 PKHD1 HFE HUS1 ARSG OTOA MPZL1 VAPB TIAM1 BCAS1 SUN3 SLCO4A1 RPS6KA1 ABCC3 AXL VEGFA SULT1A2 THRA TSHR MGST2 GRIK4 DYRK1A PRKCB ADORA1 IGF1R TNFSF4 TNFSF12\n",
      "73\n"
     ]
    }
   ],
   "source": [
    "\n",
    "print(*entity_list)\n",
    "print(entity_list.index('VCP'))"
   ]
  },
  {
   "cell_type": "code",
   "execution_count": 115,
   "metadata": {},
   "outputs": [],
   "source": [
    "##Look for target-compound maps via CHEMBL Interface API\n",
    "\n",
    "# chem_url = https://www.ebi.ac.uk/chembl/api/data/molecule.yaml?format=json"
   ]
  },
  {
   "cell_type": "code",
   "execution_count": 172,
   "metadata": {},
   "outputs": [
    {
     "name": "stdout",
     "output_type": "stream",
     "text": [
      "ENSG00000107338 ENSG00000154654 ENSG00000170776 ENSG00000162946 ENSG00000273079 ENSG00000080815 ENSG00000130427 ENSG00000151292 ENSG00000151692 ENSG00000147894 ENSG00000189108 ENSG00000135374 ENSG00000124429 ENSG00000138316 ENSG00000184588 ENSG00000137460 ENSG00000214274 ENSG00000076067 ENSG00000138867 ENSG00000115380 ENSG00000153250 ENSG00000196569 ENSG00000020256 ENSG00000155816 ENSG00000164418 ENSG00000075945 ENSG00000085276 ENSG00000170579 ENSG00000111424 ENSG00000185774 ENSG00000140465 ENSG00000140527 ENSG00000166821 ENSG00000151136 ENSG00000186094 ENSG00000136546 ENSG00000186416 ENSG00000124788 ENSG00000118276 ENSG00000100985 ENSG00000092421 ENSG00000172062 ENSG00000205571 ENSG00000116981 ENSG00000158488 ENSG00000070831 ENSG00000149262 ENSG00000107611 ENSG00000183454 ENSG00000070182 ENSG00000198824 ENSG00000130477 ENSG00000172062 ENSG00000205571 ENSG00000005421 ENSG00000130203 ENSG00000176783 ENSG00000164746 ENSG00000106868 ENSG00000188010 ENSG00000100578 ENSG00000181220 ENSG00000147896 ENSG00000156113 ENSG00000232810 ENSG00000187735 ENSG00000133195 ENSG00000142168 ENSG00000198570 ENSG00000130226 ENSG00000116991 ENSG00000007944 ENSG00000198947 ENSG00000105854 ENSG00000165280 ENSG00000144619 ENSG00000153976 ENSG00000101972 ENSG00000120162 ENSG00000166035 ENSG00000141404 ENSG00000105852 ENSG00000123104 ENSG00000058335 ENSG00000013561 ENSG00000112541 ENSG00000138771 ENSG00000096401 ENSG00000266028 ENSG00000120948 ENSG00000188404 ENSG00000089280 ENSG00000148218 ENSG00000078328 ENSG00000144331 ENSG00000172456 ENSG00000140505 ENSG00000170927 ENSG00000010704 ENSG00000136273 ENSG00000141337 ENSG00000155719 ENSG00000197965 ENSG00000124164 ENSG00000156299 ENSG00000064787 ENSG00000164744 ENSG00000101187 ENSG00000117676 ENSG00000108846 ENSG00000167601 ENSG00000112715 ENSG00000197165 ENSG00000126351 ENSG00000165409 ENSG00000085871 ENSG00000149403 ENSG00000157540 ENSG00000166501 ENSG00000163485 ENSG00000140443 ENSG00000117586 ENSG00000239697\n"
     ]
    }
   ],
   "source": [
    "names = pd.read_csv('ensemble_names.csv')\n",
    "converted_names = list(names['converted_alias'])\n",
    "print(' '.join(str(i) for i in converted_names if str(i)!='nan'))"
   ]
  },
  {
   "cell_type": "code",
   "execution_count": 173,
   "metadata": {},
   "outputs": [],
   "source": [
    "\n",
    "a = pd.read_csv('chembl_names.csv', sep=';')\n",
    "chembl_names = list(a['ChEMBL ID'])\n",
    "##add additional IDs for genes from public datasets and externals\n",
    "additionals = ['CHEMBL399774', 'CHEMBL400746', 'CHEMBL4025586', 'CHEMBL4318479', 'CHEMBL1907603', 'CHEMBL2096666', 'CHEMBL3368097','CHEMBL3760766','CHEMBL3760408','CHEMBL2187032','CHEMBL2092543','CHEMBL2187167','CHEMBL2187168','CHEMBL2187031','CHEMBL2182626','CHEMBL2182627','CHEMBL2182351','CHEMBL2399567','CHEMBL2399569','CHEMBL2399571','CHEMBL2182629']\n",
    "chembl_names += additionals\n",
    "\n",
    "str_chembl_names = ','.join(i for i in chembl_names)\n",
    "\n",
    "\n",
    "\n",
    "\n",
    "a = f'https://www.ebi.ac.uk/chembl/api/data/activity.json?target_chembl_id__in={str_chembl_names}'\n",
    "# print(a)\n"
   ]
  },
  {
   "cell_type": "code",
   "execution_count": 174,
   "metadata": {},
   "outputs": [],
   "source": [
    "# activities = chembl_webresource_client.new_client.activity.filter(target_chembl_id__in=chembl_names,\n",
    "#                                         pchembl_value__gte=5,\n",
    "#                                         assay_type='B')\n",
    "\n",
    "resp = urlopen(a)\n",
    "activity_data = resp.read().decode('utf-8')\n",
    "activity_data = json.loads(activity_data)"
   ]
  },
  {
   "cell_type": "code",
   "execution_count": 175,
   "metadata": {},
   "outputs": [
    {
     "data": {
      "text/html": [
       "<div>\n",
       "<style scoped>\n",
       "    .dataframe tbody tr th:only-of-type {\n",
       "        vertical-align: middle;\n",
       "    }\n",
       "\n",
       "    .dataframe tbody tr th {\n",
       "        vertical-align: top;\n",
       "    }\n",
       "\n",
       "    .dataframe thead th {\n",
       "        text-align: right;\n",
       "    }\n",
       "</style>\n",
       "<table border=\"1\" class=\"dataframe\">\n",
       "  <thead>\n",
       "    <tr style=\"text-align: right;\">\n",
       "      <th></th>\n",
       "      <th>activity_comment</th>\n",
       "      <th>activity_id</th>\n",
       "      <th>activity_properties</th>\n",
       "      <th>assay_chembl_id</th>\n",
       "      <th>assay_description</th>\n",
       "      <th>assay_type</th>\n",
       "      <th>assay_variant_accession</th>\n",
       "      <th>assay_variant_mutation</th>\n",
       "      <th>bao_endpoint</th>\n",
       "      <th>bao_format</th>\n",
       "      <th>...</th>\n",
       "      <th>target_organism</th>\n",
       "      <th>target_pref_name</th>\n",
       "      <th>target_tax_id</th>\n",
       "      <th>text_value</th>\n",
       "      <th>toid</th>\n",
       "      <th>type</th>\n",
       "      <th>units</th>\n",
       "      <th>uo_units</th>\n",
       "      <th>upper_value</th>\n",
       "      <th>value</th>\n",
       "    </tr>\n",
       "  </thead>\n",
       "  <tbody>\n",
       "    <tr>\n",
       "      <th>0</th>\n",
       "      <td>NaN</td>\n",
       "      <td>32391</td>\n",
       "      <td>[]</td>\n",
       "      <td>CHEMBL822780</td>\n",
       "      <td>Binding affinity at alpha-1-adrenoceptor by th...</td>\n",
       "      <td>B</td>\n",
       "      <td>NaN</td>\n",
       "      <td>NaN</td>\n",
       "      <td>BAO_0000190</td>\n",
       "      <td>BAO_0000249</td>\n",
       "      <td>...</td>\n",
       "      <td>Rattus norvegicus</td>\n",
       "      <td>Adrenergic receptor alpha-1</td>\n",
       "      <td>10116</td>\n",
       "      <td>NaN</td>\n",
       "      <td>NaN</td>\n",
       "      <td>IC50</td>\n",
       "      <td>nM</td>\n",
       "      <td>UO_0000065</td>\n",
       "      <td>NaN</td>\n",
       "      <td>8.00</td>\n",
       "    </tr>\n",
       "    <tr>\n",
       "      <th>1</th>\n",
       "      <td>NaN</td>\n",
       "      <td>32395</td>\n",
       "      <td>[]</td>\n",
       "      <td>CHEMBL822780</td>\n",
       "      <td>Binding affinity at alpha-1-adrenoceptor by th...</td>\n",
       "      <td>B</td>\n",
       "      <td>NaN</td>\n",
       "      <td>NaN</td>\n",
       "      <td>BAO_0000190</td>\n",
       "      <td>BAO_0000249</td>\n",
       "      <td>...</td>\n",
       "      <td>Rattus norvegicus</td>\n",
       "      <td>Adrenergic receptor alpha-1</td>\n",
       "      <td>10116</td>\n",
       "      <td>NaN</td>\n",
       "      <td>NaN</td>\n",
       "      <td>IC50</td>\n",
       "      <td>nM</td>\n",
       "      <td>UO_0000065</td>\n",
       "      <td>NaN</td>\n",
       "      <td>100.00</td>\n",
       "    </tr>\n",
       "    <tr>\n",
       "      <th>2</th>\n",
       "      <td>NaN</td>\n",
       "      <td>32495</td>\n",
       "      <td>[]</td>\n",
       "      <td>CHEMBL647535</td>\n",
       "      <td>Induction of ptosis after subcutaneous adminis...</td>\n",
       "      <td>B</td>\n",
       "      <td>NaN</td>\n",
       "      <td>NaN</td>\n",
       "      <td>BAO_0003036</td>\n",
       "      <td>BAO_0000019</td>\n",
       "      <td>...</td>\n",
       "      <td>Rattus norvegicus</td>\n",
       "      <td>Adrenergic receptor alpha-1</td>\n",
       "      <td>10116</td>\n",
       "      <td>NaN</td>\n",
       "      <td>NaN</td>\n",
       "      <td>ED50</td>\n",
       "      <td>mg kg-1</td>\n",
       "      <td>UO_0000308</td>\n",
       "      <td>NaN</td>\n",
       "      <td>1.25</td>\n",
       "    </tr>\n",
       "    <tr>\n",
       "      <th>3</th>\n",
       "      <td>NaN</td>\n",
       "      <td>32512</td>\n",
       "      <td>[]</td>\n",
       "      <td>CHEMBL857994</td>\n",
       "      <td>In vitro binding affinity towards Alpha-1 adre...</td>\n",
       "      <td>B</td>\n",
       "      <td>NaN</td>\n",
       "      <td>NaN</td>\n",
       "      <td>BAO_0000192</td>\n",
       "      <td>BAO_0000019</td>\n",
       "      <td>...</td>\n",
       "      <td>Rattus norvegicus</td>\n",
       "      <td>Adrenergic receptor alpha-1</td>\n",
       "      <td>10116</td>\n",
       "      <td>NaN</td>\n",
       "      <td>NaN</td>\n",
       "      <td>Log Ki</td>\n",
       "      <td>None</td>\n",
       "      <td>UO_0000065</td>\n",
       "      <td>NaN</td>\n",
       "      <td>-7.75</td>\n",
       "    </tr>\n",
       "    <tr>\n",
       "      <th>4</th>\n",
       "      <td>NaN</td>\n",
       "      <td>32514</td>\n",
       "      <td>[]</td>\n",
       "      <td>CHEMBL857537</td>\n",
       "      <td>Ki ratio measured as the Ki values of alpha-1 ...</td>\n",
       "      <td>B</td>\n",
       "      <td>NaN</td>\n",
       "      <td>NaN</td>\n",
       "      <td>BAO_0000179</td>\n",
       "      <td>BAO_0000224</td>\n",
       "      <td>...</td>\n",
       "      <td>Rattus norvegicus</td>\n",
       "      <td>Serotonin 1a (5-HT1a) receptor/Adrenergic rece...</td>\n",
       "      <td>10116</td>\n",
       "      <td>NaN</td>\n",
       "      <td>NaN</td>\n",
       "      <td>Ki ratio</td>\n",
       "      <td>None</td>\n",
       "      <td>None</td>\n",
       "      <td>NaN</td>\n",
       "      <td>18.60</td>\n",
       "    </tr>\n",
       "  </tbody>\n",
       "</table>\n",
       "<p>5 rows × 45 columns</p>\n",
       "</div>"
      ],
      "text/plain": [
       "   activity_comment  activity_id activity_properties assay_chembl_id  \\\n",
       "0               NaN        32391                  []    CHEMBL822780   \n",
       "1               NaN        32395                  []    CHEMBL822780   \n",
       "2               NaN        32495                  []    CHEMBL647535   \n",
       "3               NaN        32512                  []    CHEMBL857994   \n",
       "4               NaN        32514                  []    CHEMBL857537   \n",
       "\n",
       "                                   assay_description assay_type  \\\n",
       "0  Binding affinity at alpha-1-adrenoceptor by th...          B   \n",
       "1  Binding affinity at alpha-1-adrenoceptor by th...          B   \n",
       "2  Induction of ptosis after subcutaneous adminis...          B   \n",
       "3  In vitro binding affinity towards Alpha-1 adre...          B   \n",
       "4  Ki ratio measured as the Ki values of alpha-1 ...          B   \n",
       "\n",
       "   assay_variant_accession  assay_variant_mutation bao_endpoint   bao_format  \\\n",
       "0                      NaN                     NaN  BAO_0000190  BAO_0000249   \n",
       "1                      NaN                     NaN  BAO_0000190  BAO_0000249   \n",
       "2                      NaN                     NaN  BAO_0003036  BAO_0000019   \n",
       "3                      NaN                     NaN  BAO_0000192  BAO_0000019   \n",
       "4                      NaN                     NaN  BAO_0000179  BAO_0000224   \n",
       "\n",
       "   ...    target_organism                                   target_pref_name  \\\n",
       "0  ...  Rattus norvegicus                        Adrenergic receptor alpha-1   \n",
       "1  ...  Rattus norvegicus                        Adrenergic receptor alpha-1   \n",
       "2  ...  Rattus norvegicus                        Adrenergic receptor alpha-1   \n",
       "3  ...  Rattus norvegicus                        Adrenergic receptor alpha-1   \n",
       "4  ...  Rattus norvegicus  Serotonin 1a (5-HT1a) receptor/Adrenergic rece...   \n",
       "\n",
       "   target_tax_id  text_value toid      type    units    uo_units upper_value  \\\n",
       "0          10116         NaN  NaN      IC50       nM  UO_0000065         NaN   \n",
       "1          10116         NaN  NaN      IC50       nM  UO_0000065         NaN   \n",
       "2          10116         NaN  NaN      ED50  mg kg-1  UO_0000308         NaN   \n",
       "3          10116         NaN  NaN    Log Ki     None  UO_0000065         NaN   \n",
       "4          10116         NaN  NaN  Ki ratio     None        None         NaN   \n",
       "\n",
       "    value  \n",
       "0    8.00  \n",
       "1  100.00  \n",
       "2    1.25  \n",
       "3   -7.75  \n",
       "4   18.60  \n",
       "\n",
       "[5 rows x 45 columns]"
      ]
     },
     "execution_count": 175,
     "metadata": {},
     "output_type": "execute_result"
    }
   ],
   "source": [
    "with open('drug_target_activity.json', 'w') as outfile:\n",
    "    json.dump(activity_data['activities'], outfile)\n",
    "\n",
    "a = pd.read_json('drug_target_activity.json')\n",
    "a.head()\n",
    "    "
   ]
  },
  {
   "cell_type": "code",
   "execution_count": 176,
   "metadata": {},
   "outputs": [],
   "source": [
    "molecules = f'https://www.ebi.ac.uk/chembl/api/data/molecule.json?molecule_chembl_id__in={str_chembl_names}'\n",
    "resp_m = urlopen(molecules)\n",
    "compound_data = resp_m.read().decode('utf-8')\n",
    "compound_data = json.loads(compound_data)\n",
    "\n",
    "\n",
    "with open('drug_target_compounds.json', 'w') as outfile:\n",
    "    json.dump(compound_data['molecules'], outfile)\n",
    "\n",
    "m = pd.read_json('drug_target_compounds.json')"
   ]
  },
  {
   "cell_type": "code",
   "execution_count": 177,
   "metadata": {},
   "outputs": [],
   "source": [
    "targets = f'https://www.ebi.ac.uk/chembl/api/data/target.json?target_chembl_id__in={str_chembl_names}'\n",
    "\n",
    "resp_t = urlopen(targets)\n",
    "target_data = resp_t.read().decode('utf-8')\n",
    "target_data = json.loads(target_data)\n",
    "\n",
    "with open('drug_target_targets.json', 'w') as outfile:\n",
    "    json.dump(target_data['targets'], outfile)\n",
    "\n",
    "t = pd.read_json('drug_target_targets.json')"
   ]
  },
  {
   "cell_type": "code",
   "execution_count": 178,
   "metadata": {},
   "outputs": [],
   "source": [
    "all_data = {\n",
    "    'compound_data': m,\n",
    "    'target_data': t,\n",
    "    'activity_data': a\n",
    "}\n",
    "\n"
   ]
  }
 ],
 "metadata": {
  "interpreter": {
   "hash": "8c304eadc6b8ea56c9436dc6b2ad1b10803837547b0b4d513405bf88198b5337"
  },
  "kernelspec": {
   "display_name": "Python 3.8.3 64-bit ('base': conda)",
   "language": "python",
   "name": "python3"
  },
  "language_info": {
   "codemirror_mode": {
    "name": "ipython",
    "version": 3
   },
   "file_extension": ".py",
   "mimetype": "text/x-python",
   "name": "python",
   "nbconvert_exporter": "python",
   "pygments_lexer": "ipython3",
   "version": "3.8.12"
  },
  "orig_nbformat": 4
 },
 "nbformat": 4,
 "nbformat_minor": 2
}
