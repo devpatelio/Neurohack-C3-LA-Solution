{
 "cells": [
  {
   "cell_type": "code",
   "execution_count": 1,
   "metadata": {},
   "outputs": [
    {
     "name": "stderr",
     "output_type": "stream",
     "text": [
      "Using backend: pytorch[21:30:14] /tmp/dgl_src/src/runtime/tensordispatch.cc:43: TensorDispatcher: dlopen failed: dlopen(/Users/devpatelio/miniconda3/envs/machine_learning/lib/python3.8/site-packages/dgl/tensoradapter/pytorch/libtensoradapter_pytorch_1.9.1.dylib, 0x0001): tried: '/Users/devpatelio/miniconda3/envs/machine_learning/lib/python3.8/site-packages/dgl/tensoradapter/pytorch/libtensoradapter_pytorch_1.9.1.dylib' (no such file), '/usr/local/lib/libtensoradapter_pytorch_1.9.1.dylib' (no such file), '/usr/lib/libtensoradapter_pytorch_1.9.1.dylib' (no such file)\n",
      "\n"
     ]
    }
   ],
   "source": [
    "import dgl\n",
    "import dgl.data\n",
    "import torch\n",
    "import torch.nn as nn\n",
    "import torch.nn.functional as F\n",
    "import itertools\n",
    "import numpy as np\n",
    "import scipy.sparse as sp \n",
    "\n",
    "#After introducing new citation, does that new citation possibly link to another citation in the network?\n",
    "## edges/citations in graph are positive [connection is there betw. papers/nodes]\n",
    "## papers/nodes with no citations are negative [no citations, thus we predict]\n",
    "## make 2 training and test sets [both of which apply for positive and negative]\n",
    "## use AUC (Area Under Curve)\n",
    "\n",
    "dataset = [0]\n",
    "g = dataset[0]"
   ]
  },
  {
   "cell_type": "code",
   "execution_count": 3,
   "metadata": {},
   "outputs": [],
   "source": [
    "u, v = g.edges() #u is source node, v is destination node\n",
    "eids = np.arange(g.number_of_edges()) #make array from 0 -> num_edges in graph\n",
    "eids = np.random.permutation(eids) #random shuffle\n",
    "\n",
    "print(len(u), len(v))\n",
    "print(eids)\n",
    "\n",
    "test_size = int(len(eids)*0.1)\n",
    "train_size = len(eids) - test_size\n",
    "assert train_size+test_size == g.number_of_edges() #verify sizes\n",
    "\n",
    "test_pos_u, test_pos_v = u[eids[:test_size]], v[eids[:test_size]] #take first 10% of corresp. source and destination nodes [pair of nodes = edges]\n",
    "train_pos_u, train_pos_v = u[eids[test_size:]], v[eids[test_size:]]\n",
    "adj = sp.coo_matrix((np.ones(len(u)), (u.numpy(), v.numpy()))) #create identity matrix with lengh of u source nodes, adjacency added on top with data u,v\n",
    "adj_neg = 1 - adj.todense() - np.eye(g.number_of_nodes()) \n",
    "    #assume matrix of all 1s\n",
    "    #subtract adjacency matrix of graph connections [all 0s indicate presence of connection to another node]\n",
    "    #subtract identity to include undirected/self-directed node connections\n",
    "    #where ij != 0\n"
   ]
  },
  {
   "cell_type": "code",
   "execution_count": null,
   "metadata": {},
   "outputs": [],
   "source": []
  }
 ],
 "metadata": {
  "interpreter": {
   "hash": "577ea14e5a220a2e2ceb4e7a6eabde6a6424f50ee02cc5f86f913307280e145a"
  },
  "kernelspec": {
   "display_name": "Python 3.8.12 64-bit ('machine_learning': conda)",
   "language": "python",
   "name": "python3"
  },
  "language_info": {
   "codemirror_mode": {
    "name": "ipython",
    "version": 3
   },
   "file_extension": ".py",
   "mimetype": "text/x-python",
   "name": "python",
   "nbconvert_exporter": "python",
   "pygments_lexer": "ipython3",
   "version": "3.8.12"
  },
  "orig_nbformat": 4
 },
 "nbformat": 4,
 "nbformat_minor": 2
}
